{
 "cells": [
  {
   "cell_type": "code",
   "execution_count": 1,
   "id": "16ce5630-46ba-478e-911c-a2d7630c92d0",
   "metadata": {},
   "outputs": [],
   "source": [
    "import os\n",
    "import pandas as pd\n",
    "import tensorflow as tf\n",
    "from tensorflow.keras.preprocessing.image import ImageDataGenerator\n",
    "from tensorflow.keras.models import Sequential\n",
    "from tensorflow.keras.layers import Conv2D, MaxPooling2D, Flatten, Dense, Dropout\n",
    "import numpy as np"
   ]
  },
  {
   "cell_type": "code",
   "execution_count": 2,
   "id": "84d59d91-c7d0-4167-b733-9d4559362503",
   "metadata": {},
   "outputs": [],
   "source": [
    "# Define the paths\n",
    "train_dir = './data/train'\n",
    "valid_dir = './data/valid'\n",
    "test_dir = './data/test'\n",
    "\n",
    "# Load the CSV file\n",
    "dataset_csv = pd.read_csv('./data/cards.csv')"
   ]
  },
  {
   "cell_type": "code",
   "execution_count": 3,
   "id": "f999e82d-6957-4dc1-9245-e53c0eb1179f",
   "metadata": {},
   "outputs": [
    {
     "name": "stdout",
     "output_type": "stream",
     "text": [
      "Found 7624 images belonging to 53 classes.\n",
      "Found 265 images belonging to 53 classes.\n",
      "Found 265 images belonging to 53 classes.\n"
     ]
    }
   ],
   "source": [
    "# Create ImageDataGenerator for loading and augmenting images\n",
    "train_datagen = ImageDataGenerator(rescale=1./255)\n",
    "valid_datagen = ImageDataGenerator(rescale=1./255)\n",
    "test_datagen = ImageDataGenerator(rescale=1./255)\n",
    "\n",
    "train_generator = train_datagen.flow_from_directory(\n",
    "    train_dir,\n",
    "    target_size=(224, 224),\n",
    "    batch_size=32,\n",
    "    class_mode='categorical'\n",
    ")\n",
    "\n",
    "valid_generator = valid_datagen.flow_from_directory(\n",
    "    valid_dir,\n",
    "    target_size=(224, 224),\n",
    "    batch_size=32,\n",
    "    class_mode='categorical'\n",
    ")\n",
    "\n",
    "test_generator = test_datagen.flow_from_directory(\n",
    "    test_dir,\n",
    "    target_size=(224, 224),\n",
    "    batch_size=32,\n",
    "    class_mode='categorical'\n",
    ")"
   ]
  },
  {
   "cell_type": "code",
   "execution_count": 4,
   "id": "37470ca4-ea0a-41bf-8b4c-2c71d59bfee6",
   "metadata": {},
   "outputs": [
    {
     "name": "stderr",
     "output_type": "stream",
     "text": [
      "C:\\Python\\Python3_11_7\\Lib\\site-packages\\keras\\src\\layers\\convolutional\\base_conv.py:99: UserWarning: Do not pass an `input_shape`/`input_dim` argument to a layer. When using Sequential models, prefer using an `Input(shape)` object as the first layer in the model instead.\n",
      "  super().__init__(\n"
     ]
    }
   ],
   "source": [
    "# Build the model\n",
    "model = Sequential([\n",
    "    Conv2D(32, (3, 3), activation='relu', input_shape=(224, 224, 3)),\n",
    "    MaxPooling2D((2, 2)),\n",
    "    Conv2D(64, (3, 3), activation='relu'),\n",
    "    MaxPooling2D((2, 2)),\n",
    "    Conv2D(128, (3, 3), activation='relu'),\n",
    "    MaxPooling2D((2, 2)),\n",
    "    Flatten(),\n",
    "    Dense(512, activation='relu'),\n",
    "    Dropout(0.5),\n",
    "    Dense(53, activation='softmax')  # 53 classes for 53 cards\n",
    "])\n",
    "\n",
    "model.compile(optimizer='adam',\n",
    "              loss='categorical_crossentropy',\n",
    "              metrics=['accuracy'])"
   ]
  },
  {
   "cell_type": "code",
   "execution_count": 5,
   "id": "6a335f9f-7384-4fbe-82cc-2471ce92a988",
   "metadata": {},
   "outputs": [
    {
     "name": "stdout",
     "output_type": "stream",
     "text": [
      "Epoch 1/25\n"
     ]
    },
    {
     "name": "stderr",
     "output_type": "stream",
     "text": [
      "C:\\Python\\Python3_11_7\\Lib\\site-packages\\keras\\src\\trainers\\data_adapters\\py_dataset_adapter.py:122: UserWarning: Your `PyDataset` class should call `super().__init__(**kwargs)` in its constructor. `**kwargs` can include `workers`, `use_multiprocessing`, `max_queue_size`. Do not pass these arguments to `fit()`, as they will be ignored.\n",
      "  self._warn_if_super_not_called()\n"
     ]
    },
    {
     "name": "stdout",
     "output_type": "stream",
     "text": [
      "\u001b[1m239/239\u001b[0m \u001b[32m━━━━━━━━━━━━━━━━━━━━\u001b[0m\u001b[37m\u001b[0m \u001b[1m199s\u001b[0m 827ms/step - accuracy: 0.1523 - loss: 3.6165 - val_accuracy: 0.5698 - val_loss: 1.6039\n",
      "Epoch 2/25\n",
      "\u001b[1m239/239\u001b[0m \u001b[32m━━━━━━━━━━━━━━━━━━━━\u001b[0m\u001b[37m\u001b[0m \u001b[1m199s\u001b[0m 831ms/step - accuracy: 0.5138 - loss: 1.8034 - val_accuracy: 0.7019 - val_loss: 1.0903\n",
      "Epoch 3/25\n",
      "\u001b[1m239/239\u001b[0m \u001b[32m━━━━━━━━━━━━━━━━━━━━\u001b[0m\u001b[37m\u001b[0m \u001b[1m197s\u001b[0m 825ms/step - accuracy: 0.6946 - loss: 1.0905 - val_accuracy: 0.7887 - val_loss: 0.8715\n",
      "Epoch 4/25\n",
      "\u001b[1m239/239\u001b[0m \u001b[32m━━━━━━━━━━━━━━━━━━━━\u001b[0m\u001b[37m\u001b[0m \u001b[1m197s\u001b[0m 824ms/step - accuracy: 0.8347 - loss: 0.5975 - val_accuracy: 0.8151 - val_loss: 0.7658\n",
      "Epoch 5/25\n",
      "\u001b[1m239/239\u001b[0m \u001b[32m━━━━━━━━━━━━━━━━━━━━\u001b[0m\u001b[37m\u001b[0m \u001b[1m199s\u001b[0m 831ms/step - accuracy: 0.9029 - loss: 0.3466 - val_accuracy: 0.7962 - val_loss: 0.8268\n",
      "Epoch 6/25\n",
      "\u001b[1m239/239\u001b[0m \u001b[32m━━━━━━━━━━━━━━━━━━━━\u001b[0m\u001b[37m\u001b[0m \u001b[1m197s\u001b[0m 823ms/step - accuracy: 0.9273 - loss: 0.2892 - val_accuracy: 0.7962 - val_loss: 0.7954\n",
      "Epoch 7/25\n",
      "\u001b[1m239/239\u001b[0m \u001b[32m━━━━━━━━━━━━━━━━━━━━\u001b[0m\u001b[37m\u001b[0m \u001b[1m198s\u001b[0m 826ms/step - accuracy: 0.9539 - loss: 0.1688 - val_accuracy: 0.8264 - val_loss: 0.7537\n",
      "Epoch 8/25\n",
      "\u001b[1m239/239\u001b[0m \u001b[32m━━━━━━━━━━━━━━━━━━━━\u001b[0m\u001b[37m\u001b[0m \u001b[1m198s\u001b[0m 830ms/step - accuracy: 0.9624 - loss: 0.1492 - val_accuracy: 0.8038 - val_loss: 0.8840\n",
      "Epoch 9/25\n",
      "\u001b[1m239/239\u001b[0m \u001b[32m━━━━━━━━━━━━━━━━━━━━\u001b[0m\u001b[37m\u001b[0m \u001b[1m199s\u001b[0m 833ms/step - accuracy: 0.9654 - loss: 0.1153 - val_accuracy: 0.8264 - val_loss: 0.8502\n",
      "Epoch 10/25\n",
      "\u001b[1m239/239\u001b[0m \u001b[32m━━━━━━━━━━━━━━━━━━━━\u001b[0m\u001b[37m\u001b[0m \u001b[1m199s\u001b[0m 833ms/step - accuracy: 0.9733 - loss: 0.1007 - val_accuracy: 0.8189 - val_loss: 0.8010\n",
      "Epoch 11/25\n",
      "\u001b[1m239/239\u001b[0m \u001b[32m━━━━━━━━━━━━━━━━━━━━\u001b[0m\u001b[37m\u001b[0m \u001b[1m197s\u001b[0m 824ms/step - accuracy: 0.9790 - loss: 0.0902 - val_accuracy: 0.8226 - val_loss: 0.7639\n",
      "Epoch 12/25\n",
      "\u001b[1m239/239\u001b[0m \u001b[32m━━━━━━━━━━━━━━━━━━━━\u001b[0m\u001b[37m\u001b[0m \u001b[1m198s\u001b[0m 828ms/step - accuracy: 0.9767 - loss: 0.0862 - val_accuracy: 0.8226 - val_loss: 0.7472\n",
      "Epoch 13/25\n",
      "\u001b[1m239/239\u001b[0m \u001b[32m━━━━━━━━━━━━━━━━━━━━\u001b[0m\u001b[37m\u001b[0m \u001b[1m198s\u001b[0m 828ms/step - accuracy: 0.9826 - loss: 0.0679 - val_accuracy: 0.8377 - val_loss: 0.7842\n",
      "Epoch 14/25\n",
      "\u001b[1m239/239\u001b[0m \u001b[32m━━━━━━━━━━━━━━━━━━━━\u001b[0m\u001b[37m\u001b[0m \u001b[1m197s\u001b[0m 825ms/step - accuracy: 0.9805 - loss: 0.0736 - val_accuracy: 0.8453 - val_loss: 0.7962\n",
      "Epoch 15/25\n",
      "\u001b[1m239/239\u001b[0m \u001b[32m━━━━━━━━━━━━━━━━━━━━\u001b[0m\u001b[37m\u001b[0m \u001b[1m199s\u001b[0m 831ms/step - accuracy: 0.9812 - loss: 0.0738 - val_accuracy: 0.8377 - val_loss: 0.8886\n",
      "Epoch 16/25\n",
      "\u001b[1m239/239\u001b[0m \u001b[32m━━━━━━━━━━━━━━━━━━━━\u001b[0m\u001b[37m\u001b[0m \u001b[1m197s\u001b[0m 823ms/step - accuracy: 0.9788 - loss: 0.0714 - val_accuracy: 0.8264 - val_loss: 0.9210\n",
      "Epoch 17/25\n",
      "\u001b[1m239/239\u001b[0m \u001b[32m━━━━━━━━━━━━━━━━━━━━\u001b[0m\u001b[37m\u001b[0m \u001b[1m199s\u001b[0m 833ms/step - accuracy: 0.9840 - loss: 0.0543 - val_accuracy: 0.8415 - val_loss: 0.7652\n",
      "Epoch 18/25\n",
      "\u001b[1m239/239\u001b[0m \u001b[32m━━━━━━━━━━━━━━━━━━━━\u001b[0m\u001b[37m\u001b[0m \u001b[1m197s\u001b[0m 824ms/step - accuracy: 0.9834 - loss: 0.0661 - val_accuracy: 0.8491 - val_loss: 0.6662\n",
      "Epoch 19/25\n",
      "\u001b[1m239/239\u001b[0m \u001b[32m━━━━━━━━━━━━━━━━━━━━\u001b[0m\u001b[37m\u001b[0m \u001b[1m198s\u001b[0m 828ms/step - accuracy: 0.9876 - loss: 0.0574 - val_accuracy: 0.8453 - val_loss: 0.8078\n",
      "Epoch 20/25\n",
      "\u001b[1m239/239\u001b[0m \u001b[32m━━━━━━━━━━━━━━━━━━━━\u001b[0m\u001b[37m\u001b[0m \u001b[1m198s\u001b[0m 829ms/step - accuracy: 0.9848 - loss: 0.0569 - val_accuracy: 0.8189 - val_loss: 1.0155\n",
      "Epoch 21/25\n",
      "\u001b[1m239/239\u001b[0m \u001b[32m━━━━━━━━━━━━━━━━━━━━\u001b[0m\u001b[37m\u001b[0m \u001b[1m198s\u001b[0m 826ms/step - accuracy: 0.9895 - loss: 0.0401 - val_accuracy: 0.8226 - val_loss: 0.8549\n",
      "Epoch 22/25\n",
      "\u001b[1m239/239\u001b[0m \u001b[32m━━━━━━━━━━━━━━━━━━━━\u001b[0m\u001b[37m\u001b[0m \u001b[1m198s\u001b[0m 830ms/step - accuracy: 0.9889 - loss: 0.0390 - val_accuracy: 0.8491 - val_loss: 0.8322\n",
      "Epoch 23/25\n",
      "\u001b[1m239/239\u001b[0m \u001b[32m━━━━━━━━━━━━━━━━━━━━\u001b[0m\u001b[37m\u001b[0m \u001b[1m197s\u001b[0m 824ms/step - accuracy: 0.9853 - loss: 0.0502 - val_accuracy: 0.8491 - val_loss: 0.7260\n",
      "Epoch 24/25\n",
      "\u001b[1m239/239\u001b[0m \u001b[32m━━━━━━━━━━━━━━━━━━━━\u001b[0m\u001b[37m\u001b[0m \u001b[1m199s\u001b[0m 832ms/step - accuracy: 0.9866 - loss: 0.0574 - val_accuracy: 0.8566 - val_loss: 0.8409\n",
      "Epoch 25/25\n",
      "\u001b[1m239/239\u001b[0m \u001b[32m━━━━━━━━━━━━━━━━━━━━\u001b[0m\u001b[37m\u001b[0m \u001b[1m197s\u001b[0m 824ms/step - accuracy: 0.9871 - loss: 0.0473 - val_accuracy: 0.8340 - val_loss: 0.8328\n",
      "\u001b[1m9/9\u001b[0m \u001b[32m━━━━━━━━━━━━━━━━━━━━\u001b[0m\u001b[37m\u001b[0m \u001b[1m2s\u001b[0m 185ms/step - accuracy: 0.8209 - loss: 1.5391\n",
      "Test accuracy: 0.8150943517684937\n"
     ]
    }
   ],
   "source": [
    "# Train the model\n",
    "history = model.fit(\n",
    "    train_generator,\n",
    "    epochs=25,\n",
    "    validation_data=valid_generator\n",
    ")\n",
    "\n",
    "# Evaluate the model\n",
    "loss, accuracy = model.evaluate(test_generator)\n",
    "print(f'Test accuracy: {accuracy}')"
   ]
  },
  {
   "cell_type": "code",
   "execution_count": null,
   "id": "6137d1e2-1482-4575-b762-33f32223c95d",
   "metadata": {},
   "outputs": [],
   "source": [
    "with open('model.pkl', 'wb') as file:\n",
    "    pickle.dump(model, file)"
   ]
  },
  {
   "cell_type": "code",
   "execution_count": null,
   "id": "2d940e97-5c97-4639-8693-30e532fe7e4e",
   "metadata": {},
   "outputs": [],
   "source": [
    "with open('model.pkl', 'rb') as file:\n",
    "    loaded_model = pickle.load(file)"
   ]
  },
  {
   "cell_type": "code",
   "execution_count": 10,
   "id": "d165234d-7e4e-4bc4-99b3-aead5fe59927",
   "metadata": {},
   "outputs": [],
   "source": [
    "# Define card counting function\n",
    "def classify_card(image):\n",
    "    image = tf.image.resize(image, (224, 224))\n",
    "    image = tf.expand_dims(image, 0)  # Add batch dimension\n",
    "    predictions = model.predict(image)\n",
    "    class_index = tf.argmax(predictions[0]).numpy()\n",
    "    class_label = list(train_generator.class_indices.keys())[class_index]\n",
    "    return class_label\n",
    "\n",
    "def count_cards(images):\n",
    "    card_counts = {label: 0 for label in train_generator.class_indices.keys()}\n",
    "    print(card_counts)\n",
    "    global_count = 0\n",
    "    high_cards = {'10', 'J', 'Q', 'K', 'A'}\n",
    "    low_cards = {'2', '3', '4', '5', '6'}\n",
    "    total_cards = 52 * 8  # Total number of cards in a standard deck\n",
    "\n",
    "    for image in images:\n",
    "        card_label = classify_card(image)\n",
    "        card_counts[card_label] += 1\n",
    "        if card_label in high_cards:\n",
    "            global_count -= 1\n",
    "        elif card_label in low_cards:\n",
    "            global_count += 1\n",
    "\n",
    "    # Calculate remaining cards\n",
    "    remaining_cards = total_cards - sum(card_counts.values())\n",
    "\n",
    "    # Calculate probabilities\n",
    "    remaining_high_cards = sum(str(card_counts[card]) for card in high_cards)\n",
    "    remaining_low_cards = sum(str(card_counts[card]) for card in low_cards)\n",
    "    remaining_neutral_cards = remaining_cards - remaining_high_cards - remaining_low_cards\n",
    "\n",
    "    prob_high = remaining_high_cards / remaining_cards if remaining_cards > 0 else 0\n",
    "    prob_low = remaining_low_cards / remaining_cards if remaining_cards > 0 else 0\n",
    "    prob_neutral = remaining_neutral_cards / remaining_cards if remaining_cards > 0 else 0\n",
    "\n",
    "    return card_counts, global_count, prob_high, prob_low, prob_neutral"
   ]
  },
  {
   "cell_type": "code",
   "execution_count": 11,
   "id": "c7dca7e1-c29b-4d52-8882-063c1274d430",
   "metadata": {},
   "outputs": [
    {
     "name": "stdout",
     "output_type": "stream",
     "text": [
      "{'ace of clubs': 0, 'ace of diamonds': 0, 'ace of hearts': 0, 'ace of spades': 0, 'eight of clubs': 0, 'eight of diamonds': 0, 'eight of hearts': 0, 'eight of spades': 0, 'five of clubs': 0, 'five of diamonds': 0, 'five of hearts': 0, 'five of spades': 0, 'four of clubs': 0, 'four of diamonds': 0, 'four of hearts': 0, 'four of spades': 0, 'jack of clubs': 0, 'jack of diamonds': 0, 'jack of hearts': 0, 'jack of spades': 0, 'joker': 0, 'king of clubs': 0, 'king of diamonds': 0, 'king of hearts': 0, 'king of spades': 0, 'nine of clubs': 0, 'nine of diamonds': 0, 'nine of hearts': 0, 'nine of spades': 0, 'queen of clubs': 0, 'queen of diamonds': 0, 'queen of hearts': 0, 'queen of spades': 0, 'seven of clubs': 0, 'seven of diamonds': 0, 'seven of hearts': 0, 'seven of spades': 0, 'six of clubs': 0, 'six of diamonds': 0, 'six of hearts': 0, 'six of spades': 0, 'ten of clubs': 0, 'ten of diamonds': 0, 'ten of hearts': 0, 'ten of spades': 0, 'three of clubs': 0, 'three of diamonds': 0, 'three of hearts': 0, 'three of spades': 0, 'two of clubs': 0, 'two of diamonds': 0, 'two of hearts': 0, 'two of spades': 0}\n",
      "\u001b[1m1/1\u001b[0m \u001b[32m━━━━━━━━━━━━━━━━━━━━\u001b[0m\u001b[37m\u001b[0m \u001b[1m0s\u001b[0m 28ms/step\n",
      "\u001b[1m1/1\u001b[0m \u001b[32m━━━━━━━━━━━━━━━━━━━━\u001b[0m\u001b[37m\u001b[0m \u001b[1m0s\u001b[0m 28ms/step\n"
     ]
    },
    {
     "ename": "KeyError",
     "evalue": "'10'",
     "output_type": "error",
     "traceback": [
      "\u001b[1;31m---------------------------------------------------------------------------\u001b[0m",
      "\u001b[1;31mKeyError\u001b[0m                                  Traceback (most recent call last)",
      "Cell \u001b[1;32mIn[11], line 6\u001b[0m\n\u001b[0;32m      3\u001b[0m images \u001b[38;5;241m=\u001b[39m [tf\u001b[38;5;241m.\u001b[39mio\u001b[38;5;241m.\u001b[39mread_file(image_path) \u001b[38;5;28;01mfor\u001b[39;00m image_path \u001b[38;5;129;01min\u001b[39;00m image_paths]\n\u001b[0;32m      4\u001b[0m images \u001b[38;5;241m=\u001b[39m [tf\u001b[38;5;241m.\u001b[39mimage\u001b[38;5;241m.\u001b[39mdecode_jpeg(image, channels\u001b[38;5;241m=\u001b[39m\u001b[38;5;241m3\u001b[39m) \u001b[38;5;28;01mfor\u001b[39;00m image \u001b[38;5;129;01min\u001b[39;00m images]\n\u001b[1;32m----> 6\u001b[0m card_counts, global_count, prob_high, prob_low, prob_neutral \u001b[38;5;241m=\u001b[39m \u001b[43mcount_cards\u001b[49m\u001b[43m(\u001b[49m\u001b[43mimages\u001b[49m\u001b[43m)\u001b[49m\n\u001b[0;32m      7\u001b[0m \u001b[38;5;28mprint\u001b[39m(\u001b[38;5;124mf\u001b[39m\u001b[38;5;124m'\u001b[39m\u001b[38;5;124mCard counts: \u001b[39m\u001b[38;5;132;01m{\u001b[39;00mcard_counts\u001b[38;5;132;01m}\u001b[39;00m\u001b[38;5;124m'\u001b[39m)\n\u001b[0;32m      8\u001b[0m \u001b[38;5;28mprint\u001b[39m(\u001b[38;5;124mf\u001b[39m\u001b[38;5;124m'\u001b[39m\u001b[38;5;124mGlobal count: \u001b[39m\u001b[38;5;132;01m{\u001b[39;00mglobal_count\u001b[38;5;132;01m}\u001b[39;00m\u001b[38;5;124m'\u001b[39m)\n",
      "Cell \u001b[1;32mIn[10], line 30\u001b[0m, in \u001b[0;36mcount_cards\u001b[1;34m(images)\u001b[0m\n\u001b[0;32m     27\u001b[0m remaining_cards \u001b[38;5;241m=\u001b[39m total_cards \u001b[38;5;241m-\u001b[39m \u001b[38;5;28msum\u001b[39m(card_counts\u001b[38;5;241m.\u001b[39mvalues())\n\u001b[0;32m     29\u001b[0m \u001b[38;5;66;03m# Calculate probabilities\u001b[39;00m\n\u001b[1;32m---> 30\u001b[0m remaining_high_cards \u001b[38;5;241m=\u001b[39m \u001b[38;5;28;43msum\u001b[39;49m\u001b[43m(\u001b[49m\u001b[38;5;28;43mstr\u001b[39;49m\u001b[43m(\u001b[49m\u001b[43mcard_counts\u001b[49m\u001b[43m[\u001b[49m\u001b[43mcard\u001b[49m\u001b[43m]\u001b[49m\u001b[43m)\u001b[49m\u001b[43m \u001b[49m\u001b[38;5;28;43;01mfor\u001b[39;49;00m\u001b[43m \u001b[49m\u001b[43mcard\u001b[49m\u001b[43m \u001b[49m\u001b[38;5;129;43;01min\u001b[39;49;00m\u001b[43m \u001b[49m\u001b[43mhigh_cards\u001b[49m\u001b[43m)\u001b[49m\n\u001b[0;32m     31\u001b[0m remaining_low_cards \u001b[38;5;241m=\u001b[39m \u001b[38;5;28msum\u001b[39m(\u001b[38;5;28mstr\u001b[39m(card_counts[card]) \u001b[38;5;28;01mfor\u001b[39;00m card \u001b[38;5;129;01min\u001b[39;00m low_cards)\n\u001b[0;32m     32\u001b[0m remaining_neutral_cards \u001b[38;5;241m=\u001b[39m remaining_cards \u001b[38;5;241m-\u001b[39m remaining_high_cards \u001b[38;5;241m-\u001b[39m remaining_low_cards\n",
      "Cell \u001b[1;32mIn[10], line 30\u001b[0m, in \u001b[0;36m<genexpr>\u001b[1;34m(.0)\u001b[0m\n\u001b[0;32m     27\u001b[0m remaining_cards \u001b[38;5;241m=\u001b[39m total_cards \u001b[38;5;241m-\u001b[39m \u001b[38;5;28msum\u001b[39m(card_counts\u001b[38;5;241m.\u001b[39mvalues())\n\u001b[0;32m     29\u001b[0m \u001b[38;5;66;03m# Calculate probabilities\u001b[39;00m\n\u001b[1;32m---> 30\u001b[0m remaining_high_cards \u001b[38;5;241m=\u001b[39m \u001b[38;5;28msum\u001b[39m(\u001b[38;5;28mstr\u001b[39m(\u001b[43mcard_counts\u001b[49m\u001b[43m[\u001b[49m\u001b[43mcard\u001b[49m\u001b[43m]\u001b[49m) \u001b[38;5;28;01mfor\u001b[39;00m card \u001b[38;5;129;01min\u001b[39;00m high_cards)\n\u001b[0;32m     31\u001b[0m remaining_low_cards \u001b[38;5;241m=\u001b[39m \u001b[38;5;28msum\u001b[39m(\u001b[38;5;28mstr\u001b[39m(card_counts[card]) \u001b[38;5;28;01mfor\u001b[39;00m card \u001b[38;5;129;01min\u001b[39;00m low_cards)\n\u001b[0;32m     32\u001b[0m remaining_neutral_cards \u001b[38;5;241m=\u001b[39m remaining_cards \u001b[38;5;241m-\u001b[39m remaining_high_cards \u001b[38;5;241m-\u001b[39m remaining_low_cards\n",
      "\u001b[1;31mKeyError\u001b[0m: '10'"
     ]
    }
   ],
   "source": [
    "# Example usage with a list of images\n",
    "image_paths = [r'C:\\Users\\Amram\\IMPORTANT\\Projects\\github_projects\\BlackJackAI\\data\\train\\ace of clubs\\003.jpg', r'C:\\Users\\Amram\\IMPORTANT\\Projects\\github_projects\\BlackJackAI\\data\\train\\ace of clubs\\004.jpg']\n",
    "images = [tf.io.read_file(image_path) for image_path in image_paths]\n",
    "images = [tf.image.decode_jpeg(image, channels=3) for image in images]\n",
    "\n",
    "card_counts, global_count, prob_high, prob_low, prob_neutral = count_cards(images)\n",
    "print(f'Card counts: {card_counts}')\n",
    "print(f'Global count: {global_count}')\n",
    "print(f'Probability of next card being +1 count: {prob_low:.2f}')\n",
    "print(f'Probability of next card being -1 count: {prob_high:.2f}')\n",
    "print(f'Probability of next card being 0 count: {prob_neutral:.2f}')"
   ]
  },
  {
   "cell_type": "code",
   "execution_count": null,
   "id": "3451a2aa-96ec-460a-ac91-5e6d69e4e1cb",
   "metadata": {},
   "outputs": [],
   "source": []
  }
 ],
 "metadata": {
  "kernelspec": {
   "display_name": "Python 3 (ipykernel)",
   "language": "python",
   "name": "python3"
  },
  "language_info": {
   "codemirror_mode": {
    "name": "ipython",
    "version": 3
   },
   "file_extension": ".py",
   "mimetype": "text/x-python",
   "name": "python",
   "nbconvert_exporter": "python",
   "pygments_lexer": "ipython3",
   "version": "3.11.7"
  }
 },
 "nbformat": 4,
 "nbformat_minor": 5
}
